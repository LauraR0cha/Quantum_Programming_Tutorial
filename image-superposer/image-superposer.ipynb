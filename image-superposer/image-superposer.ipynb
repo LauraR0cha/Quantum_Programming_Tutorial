{
 "cells": [
  {
   "cell_type": "markdown",
   "metadata": {},
   "source": [
    "## Image Superposer\n",
    "\n",
    "This notebook lets you create a superposition of two images. You can choose two use any of the 16 images in the *images* folder. You can swap you own images in if you want, but keep the same filenames."
   ]
  },
  {
   "cell_type": "markdown",
   "metadata": {},
   "source": [
    "The following lines set us up to create a quantum program."
   ]
  },
  {
   "cell_type": "code",
   "execution_count": null,
   "metadata": {},
   "outputs": [],
   "source": [
    "from qiskit import ClassicalRegister, QuantumRegister\n",
    "from qiskit import QuantumCircuit, execute\n",
    "from qiskit import register, available_backends, get_backend\n",
    "\n",
    "#import Qconfig and set APIToken and API url\n",
    "import sys\n",
    "sys.path.append(\"../\") # go to parent dir\n",
    "import Qconfig\n",
    "qx_config = {\n",
    "    \"APItoken\": Qconfig.APItoken,\n",
    "    \"url\": Qconfig.config['url']}\n",
    "register(qx_config['APItoken'], qx_config['url'])"
   ]
  },
  {
   "cell_type": "markdown",
   "metadata": {},
   "source": [
    "Now we create the program and define the number of qubits and bits it has, as well as the number of samples we'll use."
   ]
  },
  {
   "cell_type": "code",
   "execution_count": null,
   "metadata": {
    "collapsed": true
   },
   "outputs": [],
   "source": [
    "qubit = QuantumRegister(5)\n",
    "bit = ClassicalRegister(5)\n",
    "qp =  = QuantumCircuit(qubit, bit)\n",
    "shots = 1024"
   ]
  },
  {
   "cell_type": "markdown",
   "metadata": {},
   "source": [
    "We will write a program in which a four bit string is encoded in qubits Q0, Q1, Q3 and Q4 of the device [ibmqx4](https://github.com/QISKit/ibmqx-backend-information/blob/master/backends/ibmqx4/README.md). Q2, which is the central qubit, will be used as an ancilla.\n",
    "\n",
    "In order to keep track of which qubit corresponds to which bit, we use the array `b`."
   ]
  },
  {
   "cell_type": "code",
   "execution_count": null,
   "metadata": {
    "collapsed": true
   },
   "outputs": [],
   "source": [
    "b = [4,3,1,0] # the qubits used as bits\n",
    "a = 2 # the qubit used as an ancilla"
   ]
  },
  {
   "cell_type": "markdown",
   "metadata": {},
   "source": [
    "Now it is time to write your program! Go to the tutorial and pick the *image superpose* mode. There you can choose which images to superpose, and do a set of puzzles to create the quantum program. Take the lines of QISKit code that you create and paste them into the cell below."
   ]
  },
  {
   "cell_type": "code",
   "execution_count": null,
   "metadata": {
    "collapsed": true
   },
   "outputs": [],
   "source": []
  },
  {
   "cell_type": "markdown",
   "metadata": {},
   "source": [
    "The next cell executes your quantum program and gets the results. To do this, it first adds measure gates to all qubits, which are needed to extract the results. The job is then submitted, and results are checked for until they are found.\n",
    "\n",
    "A simulator is used by default. To use the real device replace this with `'ibmqx4'` in `qp.execute()`."
   ]
  },
  {
   "cell_type": "code",
   "execution_count": null,
   "metadata": {
    "collapsed": true,
    "scrolled": true
   },
   "outputs": [],
   "source": [
    "# add measure gates for all the qubits which place them on corresponding bits (we'll sort out which belong in b later)\n",
    "for j in range(5):\n",
    "    program.measure( qubit[j], bit[j] )\n",
    "\n",
    "# set up backend\n",
    "device = 'local_qasm_simulator'\n",
    "backend = get_backend(device)\n",
    "print(backend.status)\n",
    "    \n",
    "# submit jobs\n",
    "job = execute( qp, backend, shots=shots )\n",
    "\n",
    "# get the results\n",
    "stats_raw = job.result().get_counts()"
   ]
  },
  {
   "cell_type": "markdown",
   "metadata": {},
   "source": [
    "Now we process the results a little. Specifically, we do the following.\n",
    "* The raw results contain a list of how many samples gave each bit string as a result. We want this to be a fraction instead, and so divide each bit by the number of samples used.\n",
    "* The bit strings in the raw results are from the full device. We are interested only in the qubits used for bits (those in `b`). We therefore make a bit string using the bits specified in `b`, and in the order specified.\n",
    "* The raw results are sorted according to the bit string values. We sort them from least likely to most likely instead"
   ]
  },
  {
   "cell_type": "code",
   "execution_count": null,
   "metadata": {
    "collapsed": true
   },
   "outputs": [],
   "source": [
    "stats = {}\n",
    "for string in stats_raw.keys():\n",
    "    bit_string = \"\"\n",
    "    for j in sorted(b): # construct a bit string with only the values from the qubits in `b`, and in the right order\n",
    "        bit_string += string[j]\n",
    "    if bit_string in stats.keys():\n",
    "        stats[bit_string] += stats_raw[string]/shots\n",
    "    else:\n",
    "        stats[bit_string] = stats_raw[string]/shots\n",
    "# sort from least to most likely and create corresponding lists of the strings and fractions\n",
    "sorted_strings = sorted(stats,key=stats.get)\n",
    "sorted_fracs = sorted(stats.values())\n",
    "n = len(stats) # it'll also be handy to know their lengths"
   ]
  },
  {
   "cell_type": "markdown",
   "metadata": {},
   "source": [
    "The results are used to create a final image. This is a weighted average of all images whose filenames appear in `stats`, with the weighting gived by the fraction of samples for which that result occurred. These fractions are therefore used to calculate alpha values that will create this effect."
   ]
  },
  {
   "cell_type": "code",
   "execution_count": null,
   "metadata": {
    "collapsed": true
   },
   "outputs": [],
   "source": [
    "# construct alpha values such that the final image is a weighted average of the images specified by the keys of `stats`\n",
    "alpha = [ sorted_fracs[0] ]\n",
    "for j in range(0,n-1):\n",
    "    alpha.append( ( alpha[j]/(1-alpha[j]) ) * ( sorted_fracs[j+1] / sorted_fracs[j] ) )"
   ]
  },
  {
   "cell_type": "markdown",
   "metadata": {},
   "source": [
    "Finally we create the image by overlaying the source images (most likely first) with these alpha values."
   ]
  },
  {
   "cell_type": "code",
   "execution_count": null,
   "metadata": {
    "collapsed": true,
    "scrolled": false
   },
   "outputs": [],
   "source": [
    "import matplotlib.pyplot as plt\n",
    "\n",
    "plt.figure(2,figsize=(20,20))\n",
    "\n",
    "for j in reversed(range(n)):\n",
    "    image = plt.imread(\"images/\"+sorted_strings[j]+\".png\")\n",
    "    plt.imshow(image,alpha=alpha[j])\n",
    "plt.axis('off')\n",
    "plt.show()"
   ]
  }
 ],
 "metadata": {
  "kernelspec": {
   "display_name": "Python 3",
   "language": "python",
   "name": "python3"
  },
  "language_info": {
   "codemirror_mode": {
    "name": "ipython",
    "version": 3
   },
   "file_extension": ".py",
   "mimetype": "text/x-python",
   "name": "python",
   "nbconvert_exporter": "python",
   "pygments_lexer": "ipython3",
   "version": "3.6.0"
  }
 },
 "nbformat": 4,
 "nbformat_minor": 2
}
