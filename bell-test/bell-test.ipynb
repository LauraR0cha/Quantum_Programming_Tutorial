{
 "cells": [
  {
   "cell_type": "markdown",
   "metadata": {},
   "source": [
    "## Bell Tests for Quantum and Classical Variables"
   ]
  },
  {
   "cell_type": "code",
   "execution_count": 64,
   "metadata": {
    "collapsed": true
   },
   "outputs": [],
   "source": [
    "import random, time, math\n",
    "shots = 1024"
   ]
  },
  {
   "cell_type": "code",
   "execution_count": null,
   "metadata": {
    "collapsed": true
   },
   "outputs": [],
   "source": []
  },
  {
   "cell_type": "markdown",
   "metadata": {},
   "source": [
    "### Bell test for classical variables\n",
    "\n",
    "In this notebook you will investigate how quantum variables (based on qubits) differ from standard ones (based on bits)."
   ]
  },
  {
   "cell_type": "markdown",
   "metadata": {},
   "source": [
    "We'll do this by creating a pair of variables, which we will call `A` and `B`. These could be represented by any kind of data structure, and could be initialized by any kind of process. This could be deterministic or random. It could initialize the two variables in a correlated way, or they could be completely independent. Whatever you choose do do, do it in the function below.\n",
    "\n",
    "As an example, I define `A` and `B` to be random floating point number, with `A` in the range $[0.0, 2/3)$ and `B` in the range $[0.0, 1/3)$. They are also correlated, since they are rescalings of the same result from `random.random()`."
   ]
  },
  {
   "cell_type": "code",
   "execution_count": 65,
   "metadata": {
    "collapsed": true
   },
   "outputs": [],
   "source": [
    "def setup_variables ():\n",
    "    \n",
    "    ### Replace this section with anything you want ###\n",
    "    \n",
    "    r = random.random()\n",
    "    \n",
    "    A = r*(2/3)\n",
    "    B = r*(1/3)\n",
    "    \n",
    "    ### End of section ###\n",
    "    \n",
    "    return A, B"
   ]
  },
  {
   "cell_type": "markdown",
   "metadata": {},
   "source": [
    "We then define a hashing function that can be applied to either variable to produce a bit. So when given either one of the variables as an input, this function must return a bit value as output.\n",
    "\n",
    "The hashing function must also be capable of performing two different types of hash. The hash type must therefore also be supplied as an input to the function.\n",
    "\n",
    "To be consistent with the rest of the program, the two possible hash types should be called `'H'` and `'V'`. Also, the output must be in the form of a single value bit string: either `'0'` or `'1'`.\n",
    "\n",
    "As an example, I created bits by comparing `A` and `B` to a certain value. The output is `'1'` if they are under that value, and `'0'` otherwise. The value used is 0.5 for an `'H'` type hash, and 0.25 for a `'V'` type hash."
   ]
  },
  {
   "cell_type": "code",
   "execution_count": 30,
   "metadata": {},
   "outputs": [],
   "source": [
    "def hash2bit ( variable, hash ):\n",
    "    \n",
    "    ### Replace this section with anything you want ###\n",
    "    \n",
    "    if hash=='V':\n",
    "        bit = (variable<0.5)\n",
    "    elif hash=='H':\n",
    "        bit = (variable<0.25)\n",
    "        \n",
    "    bit = str(int(bit))\n",
    "    \n",
    "    ### End of section ###\n",
    "        \n",
    "    return bit"
   ]
  },
  {
   "cell_type": "markdown",
   "metadata": {},
   "source": [
    "Once these are defined, there are four quantities we wish to calculate: `E['HH']`, `E['HV']`, `E['VH']` and `E['VV']`.\n",
    "\n",
    "Let is focus on `E['HV']` as an example. This compares the bit value derived from an `'H'` type hash on `A` with that from a `'V'` type has on `B`. It is defined such that `E['HV']=1` if their values are always the same, and `E['HV']=-1` if they are always different.\n",
    "\n",
    "If `A` and `B` are produced by a deterministic process, this means that `E['HV']` is simply\n",
    "\n",
    "    hash2bit(A,'H')==hash2bit(B,'H') - hash2bit(A,'V')!=hash2bit(B,'V')\n",
    "    \n",
    "For a random process, however, we wish to sample many times and average over all the values found for this quantity.\n",
    "\n",
    "This is done in the following function, which returns all the values of E in a dictionary."
   ]
  },
  {
   "cell_type": "code",
   "execution_count": 31,
   "metadata": {
    "collapsed": true
   },
   "outputs": [],
   "source": [
    "def calculate_P ( ):\n",
    "    \n",
    "    P = {}\n",
    "    for hashes in ['HH','HV','VH','VV']:\n",
    "        \n",
    "        # calculate each P[hashes] by sampling over `shots` samples\n",
    "        P[hashes] = 0\n",
    "        for shot in range(shots):\n",
    "\n",
    "            A, B = setup_variables()\n",
    "\n",
    "            a = hash2bit ( A, hashes[0] ) # hash type for variable `A` is the first chacter of `hashes`\n",
    "            b = hash2bit ( B, hashes[1] ) # hash type for variable `B` is the second chacter of `hashes`\n",
    "\n",
    "            P[hashes] += (a==b) / shots\n",
    " \n",
    "    return P"
   ]
  },
  {
   "cell_type": "markdown",
   "metadata": {},
   "source": []
  },
  {
   "cell_type": "code",
   "execution_count": 83,
   "metadata": {
    "collapsed": true
   },
   "outputs": [],
   "source": [
    "def bell_test (P):\n",
    "    \n",
    "    for hashA in ['H','V']:\n",
    "        for hashM in ['H','V']:\n",
    "            for hashB in ['H','V']:\n",
    "\n",
    "                hashes1 = hashA+hashM\n",
    "                hashes2 = hashM+hashB\n",
    "                hashesC = hashA+hashB\n",
    "\n",
    "                p = P[hashesC] \n",
    "                lower_bound = P[hashes1] * P[hashes2]\n",
    "\n",
    "\n",
    "                if p >= lower_bound :\n",
    "                    ineq = \">=\"\n",
    "                    end = \"\"\n",
    "                else:\n",
    "                    ineq = \"<\"\n",
    "                    end = \"!!!\"\n",
    "\n",
    "                print( \"P[\"+hashC+\"] \"+ineq+\" P[\"+hash1+\"] * P[\"+hash2+\"] \"+end )"
   ]
  },
  {
   "cell_type": "markdown",
   "metadata": {},
   "source": [
    "Now let's actually calculate these values for the method we have chosen to set up and hash the variables."
   ]
  },
  {
   "cell_type": "code",
   "execution_count": 62,
   "metadata": {},
   "outputs": [
    {
     "name": "stdout",
     "output_type": "stream",
     "text": [
      "{'HH': 0.6337890625, 'HV': 0.3515625, 'VH': 1.0, 'VV': 0.7744140625}\n"
     ]
    }
   ],
   "source": [
    "P = calculate_P()\n",
    "print(P)"
   ]
  },
  {
   "cell_type": "code",
   "execution_count": 80,
   "metadata": {},
   "outputs": [
    {
     "name": "stdout",
     "output_type": "stream",
     "text": [
      "P[HH] >= P[HH] * P[HH] \n",
      "P[HV] >= P[HH] * P[HV] \n",
      "P[HH] >= P[HV] * P[VH] \n",
      "P[HV] >= P[HV] * P[VV] \n",
      "P[VH] >= P[VH] * P[HH] \n",
      "P[VV] >= P[VH] * P[HV] \n",
      "P[VH] >= P[VV] * P[VH] \n",
      "P[VV] >= P[VV] * P[VV] \n"
     ]
    }
   ],
   "source": [
    "bell_test( P )"
   ]
  },
  {
   "cell_type": "markdown",
   "metadata": {},
   "source": [
    "### Bell test for quantum variables"
   ]
  },
  {
   "cell_type": "markdown",
   "metadata": {},
   "source": [
    "Let's start by importing everything needed for the quantum program, and setting up the API."
   ]
  },
  {
   "cell_type": "code",
   "execution_count": 68,
   "metadata": {
    "collapsed": true
   },
   "outputs": [],
   "source": [
    "import sys\n",
    "sys.path.append(\"../\") # go to parent dir\n",
    "import Qconfig\n",
    "from IBMQuantumExperience import IBMQuantumExperience\n",
    "api = IBMQuantumExperience(Qconfig.APItoken, {'url':Qconfig.config[\"url\"]})\n",
    "from qiskit import QuantumProgram\n",
    "from qiskit.backends import discover_remote_backends\n",
    "remote_backends = discover_remote_backends(api)"
   ]
  },
  {
   "cell_type": "markdown",
   "metadata": {},
   "source": [
    "The initialization of the program itself, including defining the number of qubits and bits it has, is done in the following function."
   ]
  },
  {
   "cell_type": "code",
   "execution_count": 69,
   "metadata": {
    "collapsed": true
   },
   "outputs": [],
   "source": [
    "def initialize_program ():\n",
    "    \n",
    "    qp = QuantumProgram()\n",
    "    qubit = qp.create_quantum_register('qr', 5)\n",
    "    bit = qp.create_classical_register('cr', 5)\n",
    "    program = qp.create_circuit( 'bell_test', [qubit], [bit] )\n",
    "    \n",
    "    A = qubit[0]\n",
    "    B = qubit[1]\n",
    "    a = bit[0]\n",
    "    b = bit[1]\n",
    "\n",
    "    return qp, A, B, a, b, program"
   ]
  },
  {
   "cell_type": "markdown",
   "metadata": {},
   "source": [
    "Now it is time to write your program! Go to the tutorial and pick the *Bell test* mode. This will allow you to experiment in making a quantum program that will prove the unique properties of quantum mechanics. Take the lines of QISKit code that you create and paste them into the empty function below."
   ]
  },
  {
   "cell_type": "code",
   "execution_count": 70,
   "metadata": {
    "collapsed": true
   },
   "outputs": [],
   "source": [
    "def setup_variables ( program, A, B ):\n",
    "    \n",
    "    pass # delete this line, and put your program here instead\n",
    "\n",
    "    program.x(A)"
   ]
  },
  {
   "cell_type": "code",
   "execution_count": 71,
   "metadata": {},
   "outputs": [],
   "source": [
    "def hash2bit  ( program, qubit, bit, hash ):\n",
    "    \n",
    "    if hash=='V':\n",
    "        program.h( qubit )\n",
    "        \n",
    "    program.measure( qubit, bit )\n",
    "        "
   ]
  },
  {
   "cell_type": "markdown",
   "metadata": {},
   "source": []
  },
  {
   "cell_type": "code",
   "execution_count": 76,
   "metadata": {
    "collapsed": true
   },
   "outputs": [],
   "source": [
    "def get_results ( qp ):\n",
    "    \n",
    "    # submit job\n",
    "    qp.execute(['bell_test'], backend='ibmqx_qasm_simulator', shots = shots, max_credits = 5, timeout=1)\n",
    "    print(\"Job submitted\")\n",
    "\n",
    "    # get job id\n",
    "    job_id = api.get_jobs(limit=50)[0]['id']\n",
    "\n",
    "    import time\n",
    "    data_needed = True\n",
    "    while data_needed:\n",
    "        jobs = api.get_jobs(limit=10)\n",
    "        for job in jobs:\n",
    "            if job['id']==job_id:\n",
    "                if job['qasms'][0]['status']==\"DONE\":\n",
    "                    stats = job['qasms'][0]['result']['data']['counts']\n",
    "                    data_needed = False\n",
    "                    print(\"Job done\")\n",
    "                else:\n",
    "                    print(\"No results yet! We'll wait a while and check again.\")\n",
    "                    time.sleep(600)\n",
    "    \n",
    "    p = {}\n",
    "    for string in stats_raw.keys():\n",
    "        p[string[4]+string[3]] = stats[string]/shots\n",
    "                    \n",
    "    return stats"
   ]
  },
  {
   "cell_type": "code",
   "execution_count": 81,
   "metadata": {
    "collapsed": true
   },
   "outputs": [],
   "source": [
    "def calculate_P ():\n",
    "    \n",
    "    P = {}\n",
    "    for hashes in ['HH','HV','VH','VV']:\n",
    "\n",
    "        for shot in range(shots):\n",
    "            \n",
    "            qp, A, B, a, b, program = initialize_program ()\n",
    "\n",
    "            setup_variables( program, A, B )\n",
    "\n",
    "            hash2bit ( program, A, a, hashes[0] )\n",
    "            hash2bit ( program, B, b, hashes[1] )\n",
    "            \n",
    "        p = get_results( qp )\n",
    "\n",
    "        P[hashes] = 0\n",
    "        for a,b in stats.keys():\n",
    "            if a==b:\n",
    "                P[hashes] += p[a+b]\n",
    "\n",
    "    return P"
   ]
  },
  {
   "cell_type": "markdown",
   "metadata": {},
   "source": []
  },
  {
   "cell_type": "code",
   "execution_count": 82,
   "metadata": {},
   "outputs": [
    {
     "name": "stdout",
     "output_type": "stream",
     "text": [
      "Job submitted\n",
      "Job done\n",
      "Job submitted\n",
      "Job done\n",
      "Job submitted\n",
      "Job done\n",
      "Job submitted\n",
      "Job done\n",
      "{'HH': 0, 'HV': 532, 'VH': 512, 'VV': 522}\n",
      "{'HH': 0.6337890625, 'HV': 0.3515625, 'VH': 1.0, 'VV': 0.7744140625}\n"
     ]
    }
   ],
   "source": [
    "print( calculate_P() )\n",
    "print(P)"
   ]
  },
  {
   "cell_type": "code",
   "execution_count": null,
   "metadata": {
    "collapsed": true
   },
   "outputs": [],
   "source": [
    "bell_test( P )"
   ]
  }
 ],
 "metadata": {
  "kernelspec": {
   "display_name": "Python 3",
   "language": "python",
   "name": "python3"
  },
  "language_info": {
   "codemirror_mode": {
    "name": "ipython",
    "version": 3
   },
   "file_extension": ".py",
   "mimetype": "text/x-python",
   "name": "python",
   "nbconvert_exporter": "python",
   "pygments_lexer": "ipython3",
   "version": "3.6.0"
  }
 },
 "nbformat": 4,
 "nbformat_minor": 2
}
